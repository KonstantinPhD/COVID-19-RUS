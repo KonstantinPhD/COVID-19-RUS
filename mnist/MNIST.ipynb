{
  "nbformat": 4,
  "nbformat_minor": 0,
  "metadata": {
    "colab": {
      "name": "Untitled0.ipynb",
      "provenance": [],
      "collapsed_sections": [],
      "authorship_tag": "ABX9TyMfD/RA5BDXbA1+f5lTFYDc",
      "include_colab_link": true
    },
    "kernelspec": {
      "name": "python3",
      "display_name": "Python 3"
    },
    "language_info": {
      "name": "python"
    }
  },
  "cells": [
    {
      "cell_type": "markdown",
      "metadata": {
        "id": "view-in-github",
        "colab_type": "text"
      },
      "source": [
        "<a href=\"https://colab.research.google.com/github/KonstantinPhD/COVID-19-RUS/blob/master/mnist/MNIST.ipynb\" target=\"_parent\"><img src=\"https://colab.research.google.com/assets/colab-badge.svg\" alt=\"Open In Colab\"/></a>"
      ]
    },
    {
      "cell_type": "markdown",
      "metadata": {
        "id": "9p82VGZuWI1u"
      },
      "source": [
        "# Пример из лекции № 12 (MNIST)"
      ]
    },
    {
      "cell_type": "markdown",
      "metadata": {
        "id": "uNhhQGutQCxQ"
      },
      "source": [
        "1. Подключим необходимые библиотеки"
      ]
    },
    {
      "cell_type": "code",
      "metadata": {
        "id": "ebcTcXgOP_br"
      },
      "source": [
        "from __future__ import print_function   \n",
        "import numpy as np\n",
        "from keras.datasets import mnist\n",
        "from keras.models import Sequential\n",
        "from keras.layers.core import Dense, Dropout, Activation\n",
        "from tensorflow.keras.optimizers import SGD, Adam, RMSprop\n",
        "from keras.utils import np_utils;\n",
        "import pandas as pd;\n",
        "import matplotlib.pyplot as plt;"
      ],
      "execution_count": null,
      "outputs": []
    },
    {
      "cell_type": "markdown",
      "metadata": {
        "id": "KZ1to8LoQRox"
      },
      "source": [
        "2. Зададим параметры, необходимые для обучения сети. \n",
        ">Напомню, что  такое пакет (англ. batch). Возможны два подхода к реализации алгоритма обучения сети, например, используя метод градиентного спуска: стохастический и пакетный. \n",
        "\n",
        "\n",
        "\n",
        ">>> Стохастический градиентный спуск (англ. stochastic gradient descent) —\n",
        "реализация, в которой на каждой итерации алгоритма из обучающей выборки каким-то (случайным) образом выбирается только один объект;\n",
        "\n",
        "\n",
        ">>> Пакетный (батч) (англ. batch gradient descent) — реализация градиентного спуска, когда на каждой итерации обучающая выборка просматривается целиком, и только после этого изменяются веса модели.\n",
        "\n"
      ]
    },
    {
      "cell_type": "code",
      "metadata": {
        "id": "cjKy3UE0Dlgj"
      },
      "source": [
        "batch_size = 128; #размер партии данных, которая поступает на обучение, т.е.\n",
        "#обучать сеть будем партиями, битчами\n",
        "nr_classes = 10; # Количество классов\n",
        "nr_iterations = 20; #Количество эпох (количество итераций)"
      ],
      "execution_count": null,
      "outputs": []
    },
    {
      "cell_type": "code",
      "metadata": {
        "id": "qxl7NwF_Da9M"
      },
      "source": [
        "(X_train, y_train), (X_test, y_test) = mnist.load_data() #Загрузка датасета"
      ],
      "execution_count": null,
      "outputs": []
    },
    {
      "cell_type": "code",
      "metadata": {
        "colab": {
          "base_uri": "https://localhost:8080/",
          "height": 282
        },
        "id": "A2s_p6CVESn8",
        "outputId": "89834255-8dbc-47e4-e730-398c05601a8d"
      },
      "source": [
        "plt.imshow(X_train[3])# Постмотрим на картинку"
      ],
      "execution_count": null,
      "outputs": [
        {
          "output_type": "execute_result",
          "data": {
            "text/plain": [
              "<matplotlib.image.AxesImage at 0x7fdeeb8e0e50>"
            ]
          },
          "metadata": {},
          "execution_count": 77
        },
        {
          "output_type": "display_data",
          "data": {
            "image/png": "[encoded data removed]",
            "text/plain": [
              "<Figure size 432x288 with 1 Axes>"
            ]
          },
          "metadata": {
            "needs_background": "light"
          }
        }
      ]
    },
    {
      "cell_type": "code",
      "metadata": {
        "colab": {
          "base_uri": "https://localhost:8080/"
        },
        "id": "sarwomaCEx6Y",
        "outputId": "0d67ada8-bd14-4a80-8bba-c519c25decb4"
      },
      "source": [
        "print(\"Правильный ответ \",y_train[3])# Посмотрим на ответы в датасете"
      ],
      "execution_count": null,
      "outputs": [
        {
          "output_type": "stream",
          "name": "stdout",
          "text": [
            "Правильный ответ  1\n"
          ]
        }
      ]
    },
    {
      "cell_type": "code",
      "metadata": {
        "id": "bp3nHjHaFD70"
      },
      "source": [
        "#  картинку вытягиваем в столбец\n",
        "#  Информация о взаимном расположении теряется (не совсем)\n",
        "\n",
        "X_train = X_train.reshape(60000, 784); # 60000 - это количество картинок, 784 - размер 1-й картинки (28х28=784)\n",
        "X_test = X_test.reshape(10000, 784);"
      ],
      "execution_count": null,
      "outputs": []
    },
    {
      "cell_type": "code",
      "metadata": {
        "id": "iO0jFtr_F8x4"
      },
      "source": [
        "#  Уточняем тип данных\n",
        "\n",
        "X_train = X_train.astype('float32')\n",
        "X_test = X_test.astype('float32')\n",
        "\n",
        "#  Нормируем входные значения, что бы получить числа от 0 до 1!!!\n",
        "X_train /= 255\n",
        "X_test /= 255"
      ],
      "execution_count": null,
      "outputs": []
    },
    {
      "cell_type": "code",
      "metadata": {
        "id": "fAFk3WR_GO_x"
      },
      "source": [
        "#  Делаем 10 бинарных столбцов (так как 10 цифр), формируем зависимые переменные, ответы.\n",
        "\n",
        "Y_train = np_utils.to_categorical(y_train, nr_classes)\n",
        "Y_test = np_utils.to_categorical(y_test, nr_classes)"
      ],
      "execution_count": null,
      "outputs": []
    },
    {
      "cell_type": "code",
      "metadata": {
        "id": "qtEmb0zxGHq4"
      },
      "source": [
        "a=pd.DataFrame(Y_train)# Это не обязательный параметр."
      ],
      "execution_count": null,
      "outputs": []
    },
    {
      "cell_type": "code",
      "metadata": {
        "colab": {
          "base_uri": "https://localhost:8080/",
          "height": 203
        },
        "id": "hu52A0V7G5uj",
        "outputId": "6b0928e1-f274-4ef9-caf0-594954c5889a"
      },
      "source": [
        "a.head() # Посмотрим, что содержится в данных Y_train"
      ],
      "execution_count": null,
      "outputs": [
        {
          "output_type": "execute_result",
          "data": {
            "text/html": [
              "<div>\n",
              "<style scoped>\n",
              "    .dataframe tbody tr th:only-of-type {\n",
              "        vertical-align: middle;\n",
              "    }\n",
              "\n",
              "    .dataframe tbody tr th {\n",
              "        vertical-align: top;\n",
              "    }\n",
              "\n",
              "    .dataframe thead th {\n",
              "        text-align: right;\n",
              "    }\n",
              "</style>\n",
              "<table border=\"1\" class=\"dataframe\">\n",
              "  <thead>\n",
              "    <tr style=\"text-align: right;\">\n",
              "      <th></th>\n",
              "      <th>0</th>\n",
              "      <th>1</th>\n",
              "      <th>2</th>\n",
              "      <th>3</th>\n",
              "      <th>4</th>\n",
              "      <th>5</th>\n",
              "      <th>6</th>\n",
              "      <th>7</th>\n",
              "      <th>8</th>\n",
              "      <th>9</th>\n",
              "    </tr>\n",
              "  </thead>\n",
              "  <tbody>\n",
              "    <tr>\n",
              "      <th>0</th>\n",
              "      <td>0.0</td>\n",
              "      <td>0.0</td>\n",
              "      <td>0.0</td>\n",
              "      <td>0.0</td>\n",
              "      <td>0.0</td>\n",
              "      <td>1.0</td>\n",
              "      <td>0.0</td>\n",
              "      <td>0.0</td>\n",
              "      <td>0.0</td>\n",
              "      <td>0.0</td>\n",
              "    </tr>\n",
              "    <tr>\n",
              "      <th>1</th>\n",
              "      <td>1.0</td>\n",
              "      <td>0.0</td>\n",
              "      <td>0.0</td>\n",
              "      <td>0.0</td>\n",
              "      <td>0.0</td>\n",
              "      <td>0.0</td>\n",
              "      <td>0.0</td>\n",
              "      <td>0.0</td>\n",
              "      <td>0.0</td>\n",
              "      <td>0.0</td>\n",
              "    </tr>\n",
              "    <tr>\n",
              "      <th>2</th>\n",
              "      <td>0.0</td>\n",
              "      <td>0.0</td>\n",
              "      <td>0.0</td>\n",
              "      <td>0.0</td>\n",
              "      <td>1.0</td>\n",
              "      <td>0.0</td>\n",
              "      <td>0.0</td>\n",
              "      <td>0.0</td>\n",
              "      <td>0.0</td>\n",
              "      <td>0.0</td>\n",
              "    </tr>\n",
              "    <tr>\n",
              "      <th>3</th>\n",
              "      <td>0.0</td>\n",
              "      <td>1.0</td>\n",
              "      <td>0.0</td>\n",
              "      <td>0.0</td>\n",
              "      <td>0.0</td>\n",
              "      <td>0.0</td>\n",
              "      <td>0.0</td>\n",
              "      <td>0.0</td>\n",
              "      <td>0.0</td>\n",
              "      <td>0.0</td>\n",
              "    </tr>\n",
              "    <tr>\n",
              "      <th>4</th>\n",
              "      <td>0.0</td>\n",
              "      <td>0.0</td>\n",
              "      <td>0.0</td>\n",
              "      <td>0.0</td>\n",
              "      <td>0.0</td>\n",
              "      <td>0.0</td>\n",
              "      <td>0.0</td>\n",
              "      <td>0.0</td>\n",
              "      <td>0.0</td>\n",
              "      <td>1.0</td>\n",
              "    </tr>\n",
              "  </tbody>\n",
              "</table>\n",
              "</div>"
            ],
            "text/plain": [
              "     0    1    2    3    4    5    6    7    8    9\n",
              "0  0.0  0.0  0.0  0.0  0.0  1.0  0.0  0.0  0.0  0.0\n",
              "1  1.0  0.0  0.0  0.0  0.0  0.0  0.0  0.0  0.0  0.0\n",
              "2  0.0  0.0  0.0  0.0  1.0  0.0  0.0  0.0  0.0  0.0\n",
              "3  0.0  1.0  0.0  0.0  0.0  0.0  0.0  0.0  0.0  0.0\n",
              "4  0.0  0.0  0.0  0.0  0.0  0.0  0.0  0.0  0.0  1.0"
            ]
          },
          "metadata": {},
          "execution_count": 84
        }
      ]
    },
    {
      "cell_type": "code",
      "metadata": {
        "id": "kBn47B1bHF4c"
      },
      "source": [
        "#  Описываем сеть. Входной слой, один внутренний слой, выходной слой. Всего три слоя!!! \n",
        "\n",
        "model = Sequential()# Начало создания сети.\n",
        "model.add(Dense(196, input_shape=(784,))) # входной (784 = 28х28 нейрона) и второй слой (196 нейронов).\n",
        "model.add(Activation('relu'));\n",
        "model.add(Dropout(0.5));\n",
        "model.add(Dense(10))# количество нейронов в выходном слое;\n",
        "model.add(Activation('softmax'));"
      ],
      "execution_count": null,
      "outputs": []
    },
    {
      "cell_type": "code",
      "metadata": {
        "colab": {
          "base_uri": "https://localhost:8080/"
        },
        "id": "VlCBKItxJMkk",
        "outputId": "1089fd16-8d07-448a-f735-84ba7fc8368f"
      },
      "source": [
        "model.summary() #Не обязательный параметр."
      ],
      "execution_count": null,
      "outputs": [
        {
          "output_type": "stream",
          "name": "stdout",
          "text": [
            "Model: \"sequential_1\"\n",
            "_________________________________________________________________\n",
            " Layer (type)                Output Shape              Param #   \n",
            "=================================================================\n",
            " dense_2 (Dense)             (None, 196)               153860    \n",
            "                                                                 \n",
            " activation_2 (Activation)   (None, 196)               0         \n",
            "                                                                 \n",
            " dropout_1 (Dropout)         (None, 196)               0         \n",
            "                                                                 \n",
            " dense_3 (Dense)             (None, 10)                1970      \n",
            "                                                                 \n",
            " activation_3 (Activation)   (None, 10)                0         \n",
            "                                                                 \n",
            "=================================================================\n",
            "Total params: 155,830\n",
            "Trainable params: 155,830\n",
            "Non-trainable params: 0\n",
            "_________________________________________________________________\n"
          ]
        }
      ]
    },
    {
      "cell_type": "code",
      "metadata": {
        "id": "ywoGIH5RJgnQ"
      },
      "source": [
        "# Параметры целевой функции потерь.\n",
        "model.compile(loss='categorical_crossentropy',\n",
        "              optimizer=Adam(),\n",
        "              metrics=['accuracy'])"
      ],
      "execution_count": null,
      "outputs": []
    },
    {
      "cell_type": "code",
      "metadata": {
        "colab": {
          "base_uri": "https://localhost:8080/"
        },
        "id": "hvc9Yd0AJxsH",
        "outputId": "22212e26-d75f-4a39-d7ee-ab362cc09907"
      },
      "source": [
        "np.random.seed(1337)  # для воспроизводимости сети\n",
        "\n",
        "# Обучаем сеть.\n",
        "net_res_1 = model.fit(X_train, Y_train,epochs=nr_iterations,\n",
        "                    batch_size = batch_size,\n",
        "                    verbose = 1, validation_data = (X_test, Y_test));"
      ],
      "execution_count": null,
      "outputs": [
        {
          "output_type": "stream",
          "name": "stdout",
          "text": [
            "Epoch 1/20\n",
            "469/469 [==============================] - 4s 7ms/step - loss: 0.4412 - accuracy: 0.8692 - val_loss: 0.1922 - val_accuracy: 0.9441\n",
            "Epoch 2/20\n",
            "469/469 [==============================] - 3s 6ms/step - loss: 0.2223 - accuracy: 0.9353 - val_loss: 0.1385 - val_accuracy: 0.9601\n",
            "Epoch 3/20\n",
            "469/469 [==============================] - 3s 6ms/step - loss: 0.1755 - accuracy: 0.9491 - val_loss: 0.1154 - val_accuracy: 0.9645\n",
            "Epoch 4/20\n",
            "469/469 [==============================] - 3s 6ms/step - loss: 0.1473 - accuracy: 0.9567 - val_loss: 0.0987 - val_accuracy: 0.9708\n",
            "Epoch 5/20\n",
            "469/469 [==============================] - 3s 6ms/step - loss: 0.1327 - accuracy: 0.9602 - val_loss: 0.0895 - val_accuracy: 0.9740\n",
            "Epoch 6/20\n",
            "469/469 [==============================] - 3s 6ms/step - loss: 0.1182 - accuracy: 0.9639 - val_loss: 0.0822 - val_accuracy: 0.9755\n",
            "Epoch 7/20\n",
            "469/469 [==============================] - 3s 6ms/step - loss: 0.1096 - accuracy: 0.9657 - val_loss: 0.0779 - val_accuracy: 0.9764\n",
            "Epoch 8/20\n",
            "469/469 [==============================] - 3s 6ms/step - loss: 0.1012 - accuracy: 0.9689 - val_loss: 0.0768 - val_accuracy: 0.9772\n",
            "Epoch 9/20\n",
            "469/469 [==============================] - 3s 6ms/step - loss: 0.0945 - accuracy: 0.9704 - val_loss: 0.0727 - val_accuracy: 0.9785\n",
            "Epoch 10/20\n",
            "469/469 [==============================] - 3s 6ms/step - loss: 0.0893 - accuracy: 0.9717 - val_loss: 0.0700 - val_accuracy: 0.9805\n",
            "Epoch 11/20\n",
            "469/469 [==============================] - 3s 6ms/step - loss: 0.0830 - accuracy: 0.9738 - val_loss: 0.0686 - val_accuracy: 0.9797\n",
            "Epoch 12/20\n",
            "469/469 [==============================] - 3s 6ms/step - loss: 0.0800 - accuracy: 0.9748 - val_loss: 0.0676 - val_accuracy: 0.9817\n",
            "Epoch 13/20\n",
            "469/469 [==============================] - 3s 6ms/step - loss: 0.0754 - accuracy: 0.9760 - val_loss: 0.0653 - val_accuracy: 0.9816\n",
            "Epoch 14/20\n",
            "469/469 [==============================] - 3s 6ms/step - loss: 0.0729 - accuracy: 0.9770 - val_loss: 0.0655 - val_accuracy: 0.9820\n",
            "Epoch 15/20\n",
            "469/469 [==============================] - 3s 6ms/step - loss: 0.0684 - accuracy: 0.9781 - val_loss: 0.0642 - val_accuracy: 0.9813\n",
            "Epoch 16/20\n",
            "469/469 [==============================] - 3s 6ms/step - loss: 0.0661 - accuracy: 0.9790 - val_loss: 0.0638 - val_accuracy: 0.9813\n",
            "Epoch 17/20\n",
            "469/469 [==============================] - 3s 6ms/step - loss: 0.0641 - accuracy: 0.9788 - val_loss: 0.0642 - val_accuracy: 0.9808\n",
            "Epoch 18/20\n",
            "469/469 [==============================] - 3s 6ms/step - loss: 0.0622 - accuracy: 0.9799 - val_loss: 0.0632 - val_accuracy: 0.9806\n",
            "Epoch 19/20\n",
            "469/469 [==============================] - 3s 6ms/step - loss: 0.0600 - accuracy: 0.9801 - val_loss: 0.0663 - val_accuracy: 0.9809\n",
            "Epoch 20/20\n",
            "469/469 [==============================] - 3s 6ms/step - loss: 0.0586 - accuracy: 0.9811 - val_loss: 0.0685 - val_accuracy: 0.9808\n"
          ]
        }
      ]
    },
    {
      "cell_type": "code",
      "metadata": {
        "colab": {
          "base_uri": "https://localhost:8080/"
        },
        "id": "1yGIdf-dKRY6",
        "outputId": "ee166f71-9a7e-413d-bdaa-05487fabcdfa"
      },
      "source": [
        "score = model.evaluate(X_test, Y_test, verbose = 0)# Вычислим ошибки обучения.\n",
        "print(score) "
      ],
      "execution_count": null,
      "outputs": [
        {
          "output_type": "stream",
          "name": "stdout",
          "text": [
            "[160.10745239257812, 0.08669999986886978]\n"
          ]
        }
      ]
    },
    {
      "cell_type": "markdown",
      "metadata": {
        "id": "TlBRYUOKUoDv"
      },
      "source": [
        "**Проверим работу модели, визуально**"
      ]
    },
    {
      "cell_type": "code",
      "metadata": {
        "colab": {
          "base_uri": "https://localhost:8080/",
          "height": 282
        },
        "id": "b7Df6jS4K9jZ",
        "outputId": "00781fe1-6cef-445b-dddd-51738af35424"
      },
      "source": [
        "plt.imshow(X_test[25].reshape(28,28))# Посмотрим на картинку №28."
      ],
      "execution_count": null,
      "outputs": [
        {
          "output_type": "execute_result",
          "data": {
            "text/plain": [
              "<matplotlib.image.AxesImage at 0x7fdeeba0fd10>"
            ]
          },
          "metadata": {},
          "execution_count": 89
        },
        {
          "output_type": "display_data",
          "data": {
            "image/png": "[encoded data removed]",
            "text/plain": [
              "<Figure size 432x288 with 1 Axes>"
            ]
          },
          "metadata": {
            "needs_background": "light"
          }
        }
      ]
    },
    {
      "cell_type": "code",
      "metadata": {
        "id": "D85xrD_JL9c2"
      },
      "source": [
        "df=X_test[25].reshape(1,784); #Растянем картинку в вектор.\n",
        "\n",
        "ans=model.predict(df);# Воспользуемся моделью для решения задачи классификации.\n",
        "\n",
        "ans=pd.DataFrame(ans);# Представим ответ в формате DataFrame для удобства просмотра"
      ],
      "execution_count": null,
      "outputs": []
    },
    {
      "cell_type": "code",
      "metadata": {
        "colab": {
          "base_uri": "https://localhost:8080/",
          "height": 80
        },
        "id": "T5tQOyrFMIdC",
        "outputId": "941fba23-4837-4bb8-8155-e46e84aab36a"
      },
      "source": [
        "round(ans,2)# Посмотрим на результат."
      ],
      "execution_count": null,
      "outputs": [
        {
          "output_type": "execute_result",
          "data": {
            "text/html": [
              "<div>\n",
              "<style scoped>\n",
              "    .dataframe tbody tr th:only-of-type {\n",
              "        vertical-align: middle;\n",
              "    }\n",
              "\n",
              "    .dataframe tbody tr th {\n",
              "        vertical-align: top;\n",
              "    }\n",
              "\n",
              "    .dataframe thead th {\n",
              "        text-align: right;\n",
              "    }\n",
              "</style>\n",
              "<table border=\"1\" class=\"dataframe\">\n",
              "  <thead>\n",
              "    <tr style=\"text-align: right;\">\n",
              "      <th></th>\n",
              "      <th>0</th>\n",
              "      <th>1</th>\n",
              "      <th>2</th>\n",
              "      <th>3</th>\n",
              "      <th>4</th>\n",
              "      <th>5</th>\n",
              "      <th>6</th>\n",
              "      <th>7</th>\n",
              "      <th>8</th>\n",
              "      <th>9</th>\n",
              "    </tr>\n",
              "  </thead>\n",
              "  <tbody>\n",
              "    <tr>\n",
              "      <th>0</th>\n",
              "      <td>0.0</td>\n",
              "      <td>0.0</td>\n",
              "      <td>0.0</td>\n",
              "      <td>0.0</td>\n",
              "      <td>0.0</td>\n",
              "      <td>1.0</td>\n",
              "      <td>0.0</td>\n",
              "      <td>0.0</td>\n",
              "      <td>0.0</td>\n",
              "      <td>0.0</td>\n",
              "    </tr>\n",
              "  </tbody>\n",
              "</table>\n",
              "</div>"
            ],
            "text/plain": [
              "     0    1    2    3    4    5    6    7    8    9\n",
              "0  0.0  0.0  0.0  0.0  0.0  1.0  0.0  0.0  0.0  0.0"
            ]
          },
          "metadata": {},
          "execution_count": 91
        }
      ]
    },
    {
      "cell_type": "markdown",
      "metadata": {
        "id": "LU4FilnXV3Hf"
      },
      "source": [
        "# Спасибо за внимание!!!"
      ]
    }
  ]
}